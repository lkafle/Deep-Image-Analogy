{
  "nbformat": 4,
  "nbformat_minor": 0,
  "metadata": {
    "colab": {
      "name": "46 Binary Image RL",
      "version": "0.3.2",
      "provenance": [],
      "collapsed_sections": []
    },
    "kernelspec": {
      "name": "python3",
      "display_name": "Python 3"
    }
  },
  "cells": [
    {
      "cell_type": "markdown",
      "metadata": {
        "id": "view-in-github",
        "colab_type": "text"
      },
      "source": [
        "[View in Colaboratory](https://colab.research.google.com/github/lkafle/Deep-Image-Analogy/blob/appveyor/46_Binary_Image_RL.ipynb)"
      ]
    },
    {
      "metadata": {
        "id": "GDip64jxHY81",
        "colab_type": "code",
        "colab": {
          "base_uri": "https://localhost:8080/",
          "height": 465
        },
        "outputId": "6802d45d-caf2-41d8-b1ec-93d95f860aa9"
      },
      "cell_type": "code",
      "source": [
        "import numpy as np,sys\n",
        "import matplotlib.pyplot as plt\n",
        "import cv2\n",
        "\n",
        "np.random.seed(678)\n",
        "np.set_printoptions(precision=3)\n",
        "\n",
        "# generate data / label\n",
        "data = np.ones((10,100))\n",
        "data[:10,10:20] = 0\n",
        "\n",
        "label = data.copy()\n",
        "label[:10,:10] = 0\n",
        "label[:10,30:40] = 0\n",
        "label[:10,50:60] = 0\n",
        "label[:10,80:90] = 0\n",
        "\n",
        "# hyper \n",
        "q_table = np.ones((10))\n",
        "epilson = 0\n",
        "num_epid = 8000\n",
        " \n",
        "learing_rate = 0.8\n",
        "discount  = 0.006\n",
        "\n",
        "# train\n",
        "for epid in range(num_epid):\n",
        "    \n",
        "    for state in range(0,label.shape[1]-10,10):\n",
        "\n",
        "        current_state = data[:10,state:state+10]\n",
        "        current_label = label[:10,state:state+10]\n",
        "        \n",
        "        epsilon = np.random.randint(10)\n",
        "        if epsilon < 5:\n",
        "            action = q_table[int(state/10)]\n",
        "        else: \n",
        "            action = q_table[int(state/10)] - np.random.randn()/(epid+1e-8)\n",
        "\n",
        "        ret, create_data = cv2.threshold(current_state, action, 1, cv2.THRESH_BINARY)\n",
        "        reward = (1.0 -  cv2.bitwise_xor(current_label,create_data)).sum() / 100.0\n",
        "\n",
        "        q_table[int(state/10)] = q_table[int(state/10)] + learing_rate * (\n",
        "            reward + discount * q_table[int(state/10)+1] - q_table[int(state/10)] \n",
        "        )\n",
        "\n",
        "            \n",
        "# test and add the final value up\n",
        "final = \"\"\n",
        "for state in range(0,label.shape[1]-10,10):\n",
        "\n",
        "    current_state = data[:10,state:state+10].astype(int)\n",
        "    action = int(round(q_table[int(state/10)]))\n",
        "\n",
        "    if state == 0 :\n",
        "        final = current_state <= action\n",
        "    else:\n",
        "        if not current_state.sum()==action:\n",
        "            append =  current_state <= action\n",
        "        else:\n",
        "            append = current_state\n",
        "        final = np.hstack((final,append))\n",
        "\n",
        "final = np.hstack((final,data[:10,90:]))\n",
        "final_obained = final.copy()\n",
        "\n",
        "\n",
        "final = \"\"\n",
        "q_table_true = [0,0,1,0,1,0,1,1,0,1]\n",
        "for state in range(0,label.shape[1]-10,10):\n",
        "    \n",
        "    current_state = data[:10,state:state+10].astype(int)\n",
        "    action = q_table_true[int(state/10)]\n",
        "\n",
        "    if state <= 0 :\n",
        "        final = current_state <= action\n",
        "    else:\n",
        "        if not current_state.sum()==action:\n",
        "            append =  current_state <= action\n",
        "        else:\n",
        "            append = current_state\n",
        "        final = np.hstack((final,append))\n",
        "final = np.hstack((final,data[:10,90:]))\n",
        "final_truth = final.copy()\n",
        "\n",
        "print('Raw Obtained Q Table By learning : ',q_table)\n",
        "print('Rouneded Obtained Q Table By learning : ',np.round(q_table))\n",
        "print('Hand Crafted Q Table : ',q_table_true)\n",
        "\n",
        "print('-----------------------------')\n",
        "print('Sumed value for original data: ',data.sum())\n",
        "print('Sumed value for Ground Truth data: ',label.sum())\n",
        "print('Sumed value for trained data: ',final_obained.sum())\n",
        "print('Sumed value for hand crafted data: ',final_truth.sum())\n",
        "\n",
        "\n",
        "plt.imshow(data,cmap='gray')\n",
        "plt.show()\n",
        "\n",
        "plt.imshow(label,cmap='gray')\n",
        "plt.show()\n",
        "\n",
        "plt.imshow(final_obained,cmap='gray')\n",
        "plt.show()\n",
        "\n",
        "plt.imshow(final_truth,cmap='gray')\n",
        "plt.show()\n",
        "\n",
        "\n",
        "\n",
        "# ---- end code ---"
      ],
      "execution_count": 2,
      "outputs": [
        {
          "output_type": "stream",
          "text": [
            "Raw Obtained Q Table By learning :  [0.006 1.004 0.968 0.004 0.968 0.006 0.998 0.968 0.006 1.   ]\n",
            "Rouneded Obtained Q Table By learning :  [0. 1. 1. 0. 1. 0. 1. 1. 0. 1.]\n",
            "Hand Crafted Q Table :  [0, 0, 1, 0, 1, 0, 1, 1, 0, 1]\n",
            "-----------------------------\n",
            "Sumed value for original data:  900.0\n",
            "Sumed value for Ground Truth data:  500.0\n",
            "Sumed value for trained data:  600.0\n",
            "Sumed value for hand crafted data:  500.0\n"
          ],
          "name": "stdout"
        },
        {
          "output_type": "display_data",
          "data": {
            "image/png": "[encoded data removed]",
            "text/plain": [
              "<matplotlib.figure.Figure at 0x7f1a650d22e8>"
            ]
          },
          "metadata": {
            "tags": []
          }
        },
        {
          "output_type": "display_data",
          "data": {
            "image/png": "[encoded data removed]",
            "text/plain": [
              "<matplotlib.figure.Figure at 0x7f1a67278dd8>"
            ]
          },
          "metadata": {
            "tags": []
          }
        },
        {
          "output_type": "display_data",
          "data": {
            "image/png": "[encoded data removed]",
            "text/plain": [
              "<matplotlib.figure.Figure at 0x7f1a650605c0>"
            ]
          },
          "metadata": {
            "tags": []
          }
        },
        {
          "output_type": "display_data",
          "data": {
            "image/png": "[encoded data removed]",
            "text/plain": [
              "<matplotlib.figure.Figure at 0x7f1a6507e278>"
            ]
          },
          "metadata": {
            "tags": []
          }
        }
      ]
    }
  ]
}